{
 "cells": [
  {
   "cell_type": "code",
   "execution_count": 2,
   "metadata": {
    "collapsed": false
   },
   "outputs": [],
   "source": [
    "from sklearn.datasets import fetch_20newsgroups\n",
    "categories = ['sci.space']\n",
    "dataset = fetch_20newsgroups(subset='all',shuffle=True, random_state=42, categories=categories)\n",
    "corpus = dataset.data"
   ]
  },
  {
   "cell_type": "code",
   "execution_count": 3,
   "metadata": {
    "collapsed": true
   },
   "outputs": [],
   "source": [
    "from bs4 import BeautifulSoup\n",
    "import nltk\n",
    "from nltk.corpus import stopwords\n",
    "from sklearn.feature_extraction.text import TfidfVectorizer\n",
    "from sklearn.decomposition import TruncatedSVD"
   ]
  },
  {
   "cell_type": "code",
   "execution_count": 4,
   "metadata": {
    "collapsed": false
   },
   "outputs": [
    {
     "name": "stdout",
     "output_type": "stream",
     "text": [
      "[nltk_data] Downloading package stopwords to\n",
      "[nltk_data]     /Users/Castor/nltk_data...\n",
      "[nltk_data]   Package stopwords is already up-to-date!\n"
     ]
    },
    {
     "data": {
      "text/plain": [
       "True"
      ]
     },
     "execution_count": 4,
     "metadata": {},
     "output_type": "execute_result"
    }
   ],
   "source": [
    "nltk.download('stopwords')"
   ]
  },
  {
   "cell_type": "code",
   "execution_count": 50,
   "metadata": {
    "collapsed": true
   },
   "outputs": [],
   "source": [
    "stopset = set(stopwords.words('english'))\n",
    "stopset.update(['edu','would','could','henry','pat','com','net','re','also','like','want','gov','spencer','higgins','get',\n",
    "               'use','baalke','many','man','nntp','make','much'])"
   ]
  },
  {
   "cell_type": "code",
   "execution_count": 54,
   "metadata": {
    "collapsed": false
   },
   "outputs": [
    {
     "data": {
      "text/plain": [
       "u'From: aws@iti.org (Allen W. Sherzer)\\nSubject: Re: Orbital RepairStation\\nOrganization: Evil Geniuses for a Better Tomorrow\\nLines: 20\\n\\nIn article <C5HCBo.Joy@zoo.toronto.edu> henry@zoo.toronto.edu (Henry Spencer) writes:\\n\\n>The biggest problem with this is that all orbits are not alike.  It can\\n>actually be more expensive to reach a satellite from another orbit than\\n>from the ground.  \\n\\nBut with cheaper fuel from space based sources it will be cheaper to \\nreach more orbits than from the ground.\\n\\nAlso remember, that the presence of a repair/supply facility adds value\\nto the space around it. If you can put your satellite in an orbit where it\\ncan be reached by a ready source of supply you can make it cheaper and gain\\nbenefit from economies of scale.\\n\\n  Allen\\n-- \\n+---------------------------------------------------------------------------+\\n| Lady Astor:   \"Sir, if you were my husband I would poison your coffee!\"   |\\n| W. Churchill: \"Madam, if you were my wife, I would drink it.\"             |\\n+----------------------58 DAYS TO FIRST FLIGHT OF DCX-----------------------+\\n'"
      ]
     },
     "execution_count": 54,
     "metadata": {},
     "output_type": "execute_result"
    }
   ],
   "source": [
    "corpus[0]"
   ]
  },
  {
   "cell_type": "code",
   "execution_count": 51,
   "metadata": {
    "collapsed": true
   },
   "outputs": [],
   "source": [
    "vectorizer = TfidfVectorizer(stop_words=stopset,\n",
    "                                 use_idf=True, ngram_range=(1, 3))\n",
    "X = vectorizer.fit_transform(corpus)"
   ]
  },
  {
   "cell_type": "code",
   "execution_count": 55,
   "metadata": {
    "collapsed": false
   },
   "outputs": [
    {
     "data": {
      "text/plain": [
       "<1x253603 sparse matrix of type '<type 'numpy.float64'>'\n",
       "\twith 224 stored elements in Compressed Sparse Row format>"
      ]
     },
     "execution_count": 55,
     "metadata": {},
     "output_type": "execute_result"
    }
   ],
   "source": [
    "X[0]"
   ]
  },
  {
   "cell_type": "code",
   "execution_count": 56,
   "metadata": {
    "collapsed": false
   },
   "outputs": [
    {
     "name": "stdout",
     "output_type": "stream",
     "text": [
      "  (0, 89999)\t0.0540314050846\n",
      "  (0, 64461)\t0.0540314050846\n",
      "  (0, 14454)\t0.0741743459898\n",
      "  (0, 73834)\t0.0741743459898\n",
      "  (0, 247917)\t0.0741743459898\n",
      "  (0, 134223)\t0.0552451763486\n",
      "  (0, 50578)\t0.0552451763486\n",
      "  (0, 52528)\t0.0552451763486\n",
      "  (0, 171203)\t0.0552451763486\n",
      "  (0, 109135)\t0.0552451763486\n",
      "  (0, 204380)\t0.0552451763486\n",
      "  (0, 32124)\t0.0552451763486\n",
      "  (0, 123298)\t0.0552451763486\n",
      "  (0, 24059)\t0.0559067542643\n",
      "  (0, 195958)\t0.0785990624346\n",
      "  (0, 76081)\t0.0785990624346\n",
      "  (0, 38492)\t0.0785990624346\n",
      "  (0, 95927)\t0.0785990624346\n",
      "  (0, 49950)\t0.0785990624346\n",
      "  (0, 220241)\t0.0785990624346\n",
      "  (0, 208461)\t0.0785990624346\n",
      "  (0, 183895)\t0.0785990624346\n",
      "  (0, 183456)\t0.0785990624346\n",
      "  (0, 159759)\t0.0785990624346\n",
      "  (0, 194830)\t0.0785990624346\n",
      "  :\t:\n",
      "  (0, 23975)\t0.0785990624346\n",
      "  (0, 160371)\t0.100393415307\n",
      "  (0, 175947)\t0.0357997695482\n",
      "  (0, 39475)\t0.0610357598084\n",
      "  (0, 250687)\t0.0165944733217\n",
      "  (0, 231823)\t0.0695390111985\n",
      "  (0, 253516)\t0.0707518447041\n",
      "  (0, 119172)\t0.0634708569877\n",
      "  (0, 44677)\t0.0785990624346\n",
      "  (0, 30274)\t0.0176886105109\n",
      "  (0, 7828)\t0.0341021461239\n",
      "  (0, 129279)\t0.0109458796062\n",
      "  (0, 231352)\t0.0514820378195\n",
      "  (0, 38865)\t0.0318535952562\n",
      "  (0, 97362)\t0.0546214240981\n",
      "  (0, 83274)\t0.0524315663065\n",
      "  (0, 160873)\t0.0113062902696\n",
      "  (0, 187351)\t0.0710349597112\n",
      "  (0, 159945)\t0.0383434516381\n",
      "  (0, 218020)\t0.0109126934879\n",
      "  (0, 201644)\t0.0470573213747\n",
      "  (0, 24037)\t0.0852652098597\n",
      "  (0, 160703)\t0.0378110195313\n",
      "  (0, 117652)\t0.0483426515409\n",
      "  (0, 35324)\t0.0486891153542\n"
     ]
    }
   ],
   "source": [
    "print X[0]"
   ]
  },
  {
   "cell_type": "code",
   "execution_count": 57,
   "metadata": {
    "collapsed": false
   },
   "outputs": [
    {
     "data": {
      "text/plain": [
       "(987, 253603)"
      ]
     },
     "execution_count": 57,
     "metadata": {},
     "output_type": "execute_result"
    }
   ],
   "source": [
    "X.shape"
   ]
  },
  {
   "cell_type": "code",
   "execution_count": 52,
   "metadata": {
    "collapsed": false
   },
   "outputs": [
    {
     "data": {
      "text/plain": [
       "TruncatedSVD(algorithm='randomized', n_components=27, n_iter=100,\n",
       "       random_state=None, tol=0.0)"
      ]
     },
     "execution_count": 52,
     "metadata": {},
     "output_type": "execute_result"
    }
   ],
   "source": [
    "lsa = TruncatedSVD(n_components=27, n_iter=100)\n",
    "lsa.fit(X)"
   ]
  },
  {
   "cell_type": "code",
   "execution_count": 58,
   "metadata": {
    "collapsed": false
   },
   "outputs": [
    {
     "data": {
      "text/plain": [
       "array([ 0.01161494,  0.00058642,  0.00028426, ...,  0.00204401,\n",
       "        0.00204401,  0.00204401])"
      ]
     },
     "execution_count": 58,
     "metadata": {},
     "output_type": "execute_result"
    }
   ],
   "source": [
    "lsa.components_[0]"
   ]
  },
  {
   "cell_type": "code",
   "execution_count": 53,
   "metadata": {
    "collapsed": false
   },
   "outputs": [
    {
     "name": "stdout",
     "output_type": "stream",
     "text": [
      "Concept 0:\n",
      "space\n",
      "access\n",
      "nasa\n",
      "toronto\n",
      "access digex\n",
      "digex\n",
      "alaska\n",
      "writes\n",
      "article\n",
      "hst\n",
      " \n",
      "Concept 1:\n",
      "access\n",
      "access digex\n",
      "digex\n",
      "article\n",
      "access online\n",
      "access online communications\n",
      "express access\n",
      "express access online\n",
      "host access\n",
      "host access digex\n",
      " \n",
      "Concept 2:\n",
      "alaska\n",
      "space\n",
      "hst\n",
      "launch\n",
      "uxa\n",
      "uxa cso\n",
      "uxa cso uiuc\n",
      "shuttle\n",
      "writes article\n",
      "organization university\n",
      " \n",
      "Concept 3:\n",
      "access\n",
      "shuttle\n",
      "space\n",
      "launch\n",
      "may\n",
      "access digex subject\n",
      "digex subject\n",
      "lines\n",
      "data\n",
      "venus\n",
      " \n",
      "Concept 4:\n",
      "hst\n",
      "people\n",
      "software\n",
      "ca\n",
      "well\n",
      "see\n",
      "sky\n",
      "going\n",
      "things\n",
      "mission\n",
      " \n",
      "Concept 5:\n",
      "posting\n",
      "access\n",
      "subject\n",
      "alaska\n",
      "space\n",
      "time\n",
      "dseg\n",
      "nsmca\n",
      "access digex\n",
      "digex\n",
      " \n",
      "Concept 6:\n",
      "toronto\n",
      "earth\n",
      "nasa\n",
      "mission\n",
      "hst\n",
      "shuttle\n",
      "commercial\n",
      "new\n",
      "ca\n",
      "satellite\n",
      " \n",
      "Concept 7:\n",
      "year\n",
      "mission\n",
      "spacecraft\n",
      "long\n",
      "probe\n",
      "one\n",
      "sci\n",
      "solar\n",
      "posting host\n",
      "usa\n",
      " \n",
      "Concept 8:\n",
      "first\n",
      "sky\n",
      "satellite\n",
      "one\n",
      "large\n",
      "know\n",
      "writes\n",
      "billion\n",
      "years\n",
      "toronto\n",
      " \n",
      "Concept 9:\n",
      "people\n",
      "research\n",
      "news\n",
      "nasa\n",
      "go\n",
      "real\n",
      "one\n",
      "mars\n",
      "space\n",
      "system\n",
      " \n",
      "Concept 10:\n",
      "moon\n",
      "time\n",
      "access\n",
      "toronto\n",
      "part\n",
      "think\n",
      "us\n",
      "earth\n",
      "technology\n",
      "system\n",
      " \n",
      "Concept 11:\n",
      "one\n",
      "zoo toronto\n",
      "think\n",
      "zoo\n",
      "university\n",
      "anyone\n",
      "access digex subject\n",
      "digex subject\n",
      "end\n",
      "au\n",
      " \n",
      "Concept 12:\n",
      "ca\n",
      "alaska\n",
      "earth\n",
      "time\n",
      "still\n",
      "distribution\n",
      "better\n",
      "hst\n",
      "project\n",
      "dseg ti\n",
      " \n",
      "Concept 13:\n",
      "launch\n",
      "access digex\n",
      "digex\n",
      "think\n",
      "lines\n",
      "people\n",
      "may\n",
      "commercial\n",
      "market\n",
      "satellite\n",
      " \n",
      "Concept 14:\n",
      "space\n",
      "moon\n",
      "one\n",
      "around\n",
      "station\n",
      "jpl\n",
      "world\n",
      "posting\n",
      "small\n",
      "us\n",
      " \n",
      "Concept 15:\n",
      "toronto\n",
      "know\n",
      "access\n",
      "posting host\n",
      "science\n",
      "organization\n",
      "telescope\n",
      "center\n",
      "lunar\n",
      "software\n",
      " \n",
      "Concept 16:\n",
      "host\n",
      "earth\n",
      "launch\n",
      "think\n",
      "station\n",
      "us\n",
      "program\n",
      "moon\n",
      "article\n",
      "ll\n",
      " \n",
      "Concept 17:\n",
      "orbit\n",
      "one\n",
      "time\n",
      "posting host\n",
      "data\n",
      "even\n",
      "earth\n",
      "online communications\n",
      "need\n",
      "well\n",
      " \n",
      "Concept 18:\n",
      "nasa\n",
      "moon\n",
      "host\n",
      "organization\n",
      "system\n",
      "writes article\n",
      "alaska\n",
      "cs\n",
      "enough\n",
      "government\n",
      " \n",
      "Concept 19:\n",
      "mission\n",
      "one\n",
      "think\n",
      "subject\n",
      "jsc\n",
      "nasa\n",
      "venus\n",
      "things\n",
      "host\n",
      "alaska\n",
      " \n",
      "Concept 20:\n",
      "world\n",
      "access\n",
      "article\n",
      "good\n",
      "toronto\n",
      "organization\n",
      "well\n",
      "mars\n",
      "shuttle\n",
      "go\n",
      " \n",
      "Concept 21:\n",
      "posting host\n",
      "science\n",
      "nasa\n",
      "alaska\n",
      "shuttle\n",
      "subject\n",
      "prb access digex\n",
      "solar\n",
      "cmu\n",
      "prb\n",
      " \n",
      "Concept 22:\n",
      "space\n",
      "toronto\n",
      "shuttle\n",
      "distribution\n",
      "mission\n",
      "earth\n",
      "cost\n",
      "us\n",
      "__\n",
      "long\n",
      " \n",
      "Concept 23:\n",
      "think\n",
      "earth\n",
      "nasa\n",
      "access\n",
      "mission\n",
      "something\n",
      "find\n",
      "may\n",
      "alaska\n",
      "new\n",
      " \n",
      "Concept 24:\n",
      "access\n",
      "nasa\n",
      "one\n",
      "new\n",
      "may\n",
      "long\n",
      "research\n",
      "spacecraft\n",
      "shuttle\n",
      "first\n",
      " \n",
      "Concept 25:\n",
      "one\n",
      "think\n",
      "see\n",
      "might\n",
      "toronto\n",
      "right\n",
      "software\n",
      "launch\n",
      "access digex subject\n",
      "digex subject\n",
      " \n",
      "Concept 26:\n",
      "space\n",
      "article\n",
      "lines\n",
      "orbit\n",
      "first\n",
      "posting\n",
      "host\n",
      "even\n",
      "launch\n",
      "science\n",
      " \n"
     ]
    }
   ],
   "source": [
    "terms = vectorizer.get_feature_names()\n",
    "for i, comp in enumerate(lsa.components_): \n",
    "    termsInComp = zip (terms,comp)\n",
    "    sortedTerms =  sorted(termsInComp, key=lambda x: x[1], reverse=True) [:10]\n",
    "    print \"Concept %d:\" % i\n",
    "    for term in sortedTerms:\n",
    "        print term[0]\n",
    "    print \" \""
   ]
  },
  {
   "cell_type": "code",
   "execution_count": null,
   "metadata": {
    "collapsed": true
   },
   "outputs": [],
   "source": []
  }
 ],
 "metadata": {
  "kernelspec": {
   "display_name": "Python 2",
   "language": "python",
   "name": "python2"
  },
  "language_info": {
   "codemirror_mode": {
    "name": "ipython",
    "version": 2
   },
   "file_extension": ".py",
   "mimetype": "text/x-python",
   "name": "python",
   "nbconvert_exporter": "python",
   "pygments_lexer": "ipython2",
   "version": "2.7.10"
  }
 },
 "nbformat": 4,
 "nbformat_minor": 0
}
